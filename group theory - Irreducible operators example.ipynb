{
 "cells": [
  {
   "cell_type": "markdown",
   "metadata": {},
   "source": [
    "# Irreducible Operators and other Group Representation Examples\n",
    "\n",
    "The calculations below relate to Wu-Ki Tung (Group Theory in Physics book), p. 56-58, on irreducible vectors and operators.\n",
    "\n",
    "\n"
   ]
  },
  {
   "cell_type": "code",
   "execution_count": 1,
   "metadata": {},
   "outputs": [],
   "source": [
    "import numpy as np\n",
    "np.set_printoptions(suppress=True)"
   ]
  },
  {
   "cell_type": "markdown",
   "metadata": {},
   "source": [
    "Irrep matrices from: https://arxiv.org/pdf/1112.0687.pdf\n",
    "Include 3 irreps: lambda-2 (3-dim), lambda-3 (2-dim), and lambda-4 (3-dim)\n",
    "call the generators a2a12, a2a23, a2a34 for (12), (23), and (34) for lambda-2, etc.\n",
    "\n"
   ]
  },
  {
   "cell_type": "code",
   "execution_count": 8,
   "metadata": {},
   "outputs": [],
   "source": [
    "nmu=3\n",
    "ng = 24 # S4 group has order=24\n",
    "def build(g,a12,a23,a34):\n",
    "    g[1] = a12\n",
    "    g[2] = a23\n",
    "    g[3] = a34\n",
    "    g[4] = a12@a23@a12\n",
    "    g[5] = a12@a23@a34@a23@a12\n",
    "    g[6] = a23@a34@a23\n",
    "    g[7] = a12@a34\n",
    "    g[8] = a12@a23@a12@a23@a34@a23\n",
    "    g[9] = a12@a23@a34@a23@a12@a23\n",
    "    g[10] = a12@a23\n",
    "    g[11] = a23@a12\n",
    "    g[12] = a12@a23@a34@a23\n",
    "    g[13] = a23@a34@a23@a12\n",
    "    g[14] = a12@a23@a34@a12\n",
    "    g[15] = a12@a34@a23@a12\n",
    "    g[16] = a23@a34\n",
    "    g[17] = a34@a23\n",
    "    g[18] = a12@a23@a34\n",
    "    g[19] = a34@a23@a12\n",
    "    g[20] = a12@a23@a12@a23@a34@a23@a12\n",
    "    g[21] = a23@a34@a12\n",
    "    g[22] = a12@a23@a34@a23@a12@a23@a12\n",
    "    g[23] = a12@a34@a23\n",
    "    \n",
    "g2 = np.zeros(ng*9).reshape(ng,3,3)\n",
    "g3 = np.zeros(ng*4).reshape(ng,2,2)\n",
    "g4 = np.zeros(ng*9).reshape(ng,3,3)\n",
    "\n",
    "a2a12 = np.array([[1,0,0],[-1,-1,0],[1,0,-1]])\n",
    "a2a23 = np.array([[0,1,0],[1,0,0],[0,0,-1]])\n",
    "a2a34 = np.array([[-1,0,0],[0,0,1],[0,1,0]])\n",
    "g2[0] = np.diag([1,1,1])\n",
    "build(g2,a2a12,a2a23,a2a34)\n",
    "\n",
    "a3a12 = np.array([[1,0],[-1,-1]])\n",
    "a3a23 = np.array([[0,1],[1,0]])\n",
    "a3a34 = np.array([[1,0],[-1,-1]])\n",
    "g3[0] = np.diag([1,1])\n",
    "build(g3,a3a12,a3a23,a3a34)\n",
    "\n",
    "a4a12 = np.array([[-1,-1,-1],[0,1,0],[0,0,1]])\n",
    "a4a23 = np.array([[0,1,0],[1,0,0],[0,0,1]])\n",
    "a4a34 = np.array([[1,0,0],[0,0,1],[0,1,0]])\n",
    "g4[0] = np.diag([1,1,1])\n",
    "build(g4,a4a12,a4a23,a4a34)\n",
    "\n",
    "sw = np.array([[1,0,0],\n",
    "               [0,0,1],\n",
    "               [0,1,0]])"
   ]
  },
  {
   "cell_type": "code",
   "execution_count": 30,
   "metadata": {},
   "outputs": [
    {
     "name": "stdout",
     "output_type": "stream",
     "text": [
      "[[0. 0. 0. 0. 0. 0.]\n",
      " [0. 0. 0. 0. 0. 0.]\n",
      " [0. 1. 0. 0. 0. 0.]\n",
      " [0. 0. 0. 0. 0. 0.]\n",
      " [0. 0. 0. 0. 0. 0.]\n",
      " [0. 0. 0. 0. 1. 0.]]\n",
      "\n",
      "[[0. 0. 1. 0. 0. 0.]\n",
      " [0. 0. 0. 0. 0. 0.]\n",
      " [0. 0. 0. 0. 0. 0.]\n",
      " [0. 0. 0. 0. 0. 1.]\n",
      " [0. 0. 0. 0. 0. 0.]\n",
      " [0. 0. 0. 0. 0. 0.]]\n",
      "\n",
      "[[1. 0. 0. 0. 0. 0.]\n",
      " [0. 1. 0. 0. 0. 0.]\n",
      " [0. 0. 1. 0. 0. 0.]\n",
      " [0. 0. 0. 1. 0. 0.]\n",
      " [0. 0. 0. 0. 1. 0.]\n",
      " [0. 0. 0. 0. 0. 1.]]\n",
      "True\n"
     ]
    }
   ],
   "source": [
    "U = np.zeros(ng*36).reshape(ng,6,6)\n",
    "for i in range(ng):\n",
    "    U[i,0:3,0:3] = g2[i]\n",
    "    U[i,3:6,3:6] = g2[i]\n",
    "    \n",
    "P = np.zeros(36*9).reshape(3,3,6,6)\n",
    "for i in range(3):\n",
    "    for j in range(3):\n",
    "        for k in range(ng):\n",
    "            P[i,j] = P[i,j] + nmu/ng * np.linalg.inv(g2[k])[j,i] * U[k]\n",
    "\n",
    "print(P[2,1])\n",
    "print()\n",
    "print(P[0,2])\n",
    "print()\n",
    "\n",
    "E = np.zeros(36).reshape(6,6)\n",
    "for i in range(3):\n",
    "    E = E + P[i,i]\n",
    "\n",
    "print(E)\n",
    "print(np.allclose(E,np.diag([1,1,1,1,1,1])))\n"
   ]
  },
  {
   "cell_type": "markdown",
   "metadata": {},
   "source": [
    "\n",
    "Purpose of the rotation matrices below is to create a unitary matrix, R, that is fairly scrambled\n"
   ]
  },
  {
   "cell_type": "code",
   "execution_count": 65,
   "metadata": {},
   "outputs": [
    {
     "name": "stdout",
     "output_type": "stream",
     "text": [
      "[[ 0.75       0.4330127  0.         0.        -0.25       0.4330127]\n",
      " [-0.4330127 -0.25       0.         0.        -0.4330127  0.75     ]\n",
      " [ 0.         0.         0.5        0.8660254  0.         0.       ]\n",
      " [ 0.         0.        -0.8660254  0.5        0.         0.       ]\n",
      " [-0.25       0.4330127  0.         0.         0.75       0.4330127]\n",
      " [-0.4330127  0.75       0.         0.        -0.4330127 -0.25     ]]\n"
     ]
    }
   ],
   "source": [
    "th = np.pi/6\n",
    "R1 = np.array([[np.cos(th),-np.sin(th)],[np.sin(th),np.cos(th)]])\n",
    "R2 = np.zeros(36).reshape(6,6)\n",
    "R2[0:2,0:2]=R1\n",
    "R2[2:4,2:4] = R1\n",
    "R2[4:6,4:6] = R1\n",
    "swap15 = np.zeros(36).reshape(6,6)\n",
    "swap15[5,1] = 1\n",
    "swap15[1,5] = 1\n",
    "swap15[0,0] = 1\n",
    "swap15[2,2] = 1\n",
    "swap15[3,3] = 1\n",
    "swap15[4,4] = 1\n",
    "R = R2 @ swap15 @ R2\n",
    "RT = R.T\n",
    "print(RT)"
   ]
  },
  {
   "cell_type": "code",
   "execution_count": 68,
   "metadata": {},
   "outputs": [
    {
     "name": "stdout",
     "output_type": "stream",
     "text": [
      "[[-0.10825318 -0.1875      0.         -0.          0.32475953 -0.1875    ]\n",
      " [-0.1875     -0.32475953  0.          0.          0.5625     -0.32475953]\n",
      " [ 0.21650635 -0.125       0.          0.          0.21650635  0.375     ]\n",
      " [-0.375       0.21650635  0.          0.         -0.375      -0.64951905]\n",
      " [-0.10825318 -0.1875     -0.          0.          0.32475953 -0.1875    ]\n",
      " [ 0.0625      0.10825318  0.          0.         -0.1875      0.10825318]]\n",
      "\n",
      "[[ 0.         -0.          0.375      -0.64951905  0.          0.        ]\n",
      " [ 0.          0.         -0.21650635  0.375      -0.         -0.        ]\n",
      " [ 0.375       0.64951905  0.          0.          0.375      -0.21650635]\n",
      " [ 0.21650635  0.375       0.          0.          0.21650635 -0.125     ]\n",
      " [ 0.         -0.         -0.125       0.21650635  0.         -0.        ]\n",
      " [-0.          0.         -0.21650635  0.375      -0.         -0.        ]]\n",
      "\n",
      "Check if projection operator is complete:\n",
      "True\n"
     ]
    }
   ],
   "source": [
    "U2 = np.zeros(ng*36).reshape(ng,6,6)\n",
    "for i in range(ng):\n",
    "    U2[i] = RT @ U[i] @ R\n",
    "        \n",
    "P = np.zeros(36*9).reshape(3,3,6,6)\n",
    "for i in range(3):\n",
    "    for j in range(3):\n",
    "        for k in range(ng):\n",
    "            P[i,j] = P[i,j] + nmu/ng * np.linalg.inv(g2[k])[j,i] * U2[k]\n",
    "\n",
    "print(P[2,1])\n",
    "print()\n",
    "print(P[0,2])\n",
    "print()\n",
    "\n",
    "E = np.zeros(36).reshape(6,6)\n",
    "for i in range(3):\n",
    "    E = E + P[i,i]\n",
    "\n",
    "print('Check if projection operator is complete:')\n",
    "print(np.allclose(E,np.diag([1,1,1,1,1,1])))"
   ]
  },
  {
   "cell_type": "markdown",
   "metadata": {},
   "source": [
    "\n",
    "# Projection Operator Example\n",
    "\n",
    "The calculation below shows that the projection operator's indices refer to the label of the basis vector in the invariant subspace.  In this case, the representation U2 is the direct sum of two copies of the 3x3 irrep for S4, in a scrambled basis so that the representation matrices in U2 are not too simple looking.\n",
    "\n",
    "e0 through e5 are the irreducible basis vectors.  e0, e1, e2 are the basis vectors for the first invariant subspace, and e3, e4, e5 are for the second invariant subspace.  So you can see that the test vector ee, which is set to be e4, corresponds to the label 1, as far as the projection operator is concerned.  So when the projection operator transforms e4, it expect to see a \"label 1\" basis vector as input, and its output is a \"label 0\" basis vector. So in this case, its output in e3, which is a \"label 0\" basis vector in the second invariant subspace.\n"
   ]
  },
  {
   "cell_type": "code",
   "execution_count": 92,
   "metadata": {},
   "outputs": [
    {
     "name": "stdout",
     "output_type": "stream",
     "text": [
      "[ 0.75      -0.4330127  0.         0.        -0.25      -0.4330127]\n",
      "[ 0.4330127 -0.25       0.         0.         0.4330127  0.75     ]\n",
      "[ 0.         0.         0.5       -0.8660254  0.         0.       ]\n",
      "[0.        0.        0.8660254 0.5       0.        0.       ]\n",
      "[-0.25      -0.4330127  0.         0.         0.75      -0.4330127]\n",
      "[ 0.4330127  0.75       0.         0.         0.4330127 -0.25     ]\n",
      "\n",
      "[ 0.         0.         0.8660254  0.5        0.        -0.       ]\n",
      "True\n"
     ]
    }
   ],
   "source": [
    "ee = RT@np.array([0,0,0,0,1,0])\n",
    "e0 = RT@np.array([1,0,0,0,0,0])\n",
    "e1 = RT@np.array([0,1,0,0,0,0])\n",
    "e2 = RT@np.array([0,0,1,0,0,0])\n",
    "e3 = RT@np.array([0,0,0,1,0,0])\n",
    "e4 = RT@np.array([0,0,0,0,1,0])\n",
    "e5 = RT@np.array([0,0,0,0,0,1])\n",
    "\n",
    "print(e0)\n",
    "print(e1)\n",
    "print(e2)\n",
    "print(e3)\n",
    "print(e4)\n",
    "print(e5)\n",
    "print()\n",
    "print(P[0,1]@ee)\n",
    "print(np.allclose(P[0,1]@ee,e3))\n"
   ]
  },
  {
   "cell_type": "code",
   "execution_count": 4,
   "metadata": {},
   "outputs": [
    {
     "name": "stdout",
     "output_type": "stream",
     "text": [
      "8.0\n"
     ]
    }
   ],
   "source": [
    "def orth(a,b, i,j,k,l):\n",
    "    global ng\n",
    "    s = 0\n",
    "    for ii in range(ng):\n",
    "        s += np.linalg.inv(a[ii])[k,i] * b[ii,j,l]\n",
    "    return(s)\n",
    "\n",
    "print(orth(g4,g4,1,1,1,1))\n"
   ]
  },
  {
   "cell_type": "code",
   "execution_count": 170,
   "metadata": {},
   "outputs": [
    {
     "name": "stdout",
     "output_type": "stream",
     "text": [
      "[[0 0 0]\n",
      " [0 0 1]\n",
      " [0 0 0]]\n",
      "[[8. 0. 0.]\n",
      " [0. 0. 8.]\n",
      " [0. 8. 0.]]\n",
      "[[8. 0. 0.]\n",
      " [0. 0. 8.]\n",
      " [0. 8. 0.]]\n",
      "True\n"
     ]
    }
   ],
   "source": [
    "# test Thm 3.5, p. 41 of Wu-Ki Tung\n",
    "# let D_mu = g2, D_nu = g2a\n",
    "def ttt(d1, d2):\n",
    "    n1 = len(d1[0])\n",
    "    n2 = len(d2[0])\n",
    "#     X = np.random.randint(low=4, size=(n1,n2)) # X could be any n1xn2 matrix\n",
    "    X = np.array([[0,0,0],[0,0,1],[0,0,0]])\n",
    "    M = np.zeros(n1*n2).reshape(n1,n2)\n",
    "    for i in range(len(d1)):\n",
    "        M = M + np.linalg.inv(d1[i]) @ X @ d2[i]\n",
    "    N = np.linalg.inv(d1[6]) @ M @ d2[6]\n",
    "    print(X)\n",
    "    print(M)\n",
    "    print(N)\n",
    "    print(np.allclose(M,N))\n",
    "\n",
    "ttt(g2a,g2)\n",
    "\n",
    "m=2,n=1\n",
    "k=1, l=2\n"
   ]
  },
  {
   "cell_type": "code",
   "execution_count": 4,
   "metadata": {},
   "outputs": [
    {
     "name": "stdout",
     "output_type": "stream",
     "text": [
      "[[1 0]\n",
      " [0 1]]\n",
      "[[0 0]\n",
      " [0 0]]\n"
     ]
    }
   ],
   "source": [
    "I = np.diag([1,1])\n",
    "print(I)\n",
    "Z = I-I\n",
    "print(Z)"
   ]
  },
  {
   "cell_type": "code",
   "execution_count": 5,
   "metadata": {},
   "outputs": [
    {
     "name": "stdout",
     "output_type": "stream",
     "text": [
      "[[[ 1  0]\n",
      "  [ 0  1]]\n",
      "\n",
      " [[ 0 -1]\n",
      "  [-1  0]]\n",
      "\n",
      " [[ 1  0]\n",
      "  [ 1 -1]]\n",
      "\n",
      " [[-1  1]\n",
      "  [ 0  1]]\n",
      "\n",
      " [[ 0 -1]\n",
      "  [ 1 -1]]\n",
      "\n",
      " [[-1  1]\n",
      "  [-1  0]]]\n"
     ]
    }
   ],
   "source": [
    "g = np.array([I, a@b, a@a@b, a@a@a@b, a, a@a])\n",
    "print(g)"
   ]
  },
  {
   "cell_type": "code",
   "execution_count": 6,
   "metadata": {},
   "outputs": [],
   "source": [
    "# find index of x, in the array g\n",
    "def dex(g,x):\n",
    "    for i in range(len(g)):\n",
    "        y=abs(np.around(g[i]-x,decimals=3))\n",
    "        if np.sum(y)<0.001:\n",
    "            return i\n",
    "    return -1"
   ]
  },
  {
   "cell_type": "code",
   "execution_count": 7,
   "metadata": {},
   "outputs": [
    {
     "data": {
      "text/plain": [
       "1"
      ]
     },
     "execution_count": 7,
     "metadata": {},
     "output_type": "execute_result"
    }
   ],
   "source": [
    "dex(g,g[4]@g[3])"
   ]
  },
  {
   "cell_type": "code",
   "execution_count": 61,
   "metadata": {},
   "outputs": [
    {
     "name": "stdout",
     "output_type": "stream",
     "text": [
      "[[0 1 2 3 4 5]\n",
      " [1 0 5 4 3 2]\n",
      " [2 4 0 5 1 3]\n",
      " [3 5 4 0 2 1]\n",
      " [4 2 3 1 5 0]\n",
      " [5 3 1 2 0 4]]\n"
     ]
    }
   ],
   "source": [
    "n=len(g)\n",
    "mult = np.zeros((n,n), dtype=np.int_)\n",
    "for i in range(n):\n",
    "    for j in range(n):\n",
    "        x = g[i]@g[j]\n",
    "        m = dex(g,x)\n",
    "        mult[i,j] = m\n",
    "print(mult)"
   ]
  },
  {
   "cell_type": "code",
   "execution_count": 10,
   "metadata": {},
   "outputs": [],
   "source": [
    "def inv(i):\n",
    "    for j in range(len(mult)):\n",
    "        if mult[i,j]==0:\n",
    "            return j"
   ]
  },
  {
   "cell_type": "code",
   "execution_count": 11,
   "metadata": {},
   "outputs": [],
   "source": [
    "myclass = []\n",
    "def addnewclass(x):\n",
    "    for i in myclass:\n",
    "        if x in i:\n",
    "            return\n",
    "    myclass.append(set([x]))\n",
    "\n",
    "def addclass(x,y):\n",
    "    # assume x and/or y are present\n",
    "    for i in myclass:\n",
    "        if x in i:\n",
    "            i.add(y)\n",
    "            return\n",
    "        if y in i:\n",
    "            i.add(x)\n",
    "            return\n",
    "        "
   ]
  },
  {
   "cell_type": "code",
   "execution_count": 12,
   "metadata": {},
   "outputs": [],
   "source": [
    "n=len(mult)\n",
    "for i in range(n):\n",
    "    addnewclass(i)\n",
    "    for j in range(n):\n",
    "        if i==j:\n",
    "            continue\n",
    "        x = mult[inv(j),mult[i,j]]\n",
    "        # i and x are in same class\n",
    "        addclass(i,x)"
   ]
  },
  {
   "cell_type": "code",
   "execution_count": 13,
   "metadata": {},
   "outputs": [
    {
     "name": "stdout",
     "output_type": "stream",
     "text": [
      "[{0}, {1, 2, 3}, {4, 5}]\n"
     ]
    }
   ],
   "source": [
    "print(myclass)"
   ]
  },
  {
   "cell_type": "markdown",
   "metadata": {},
   "source": [
    "--------------\n",
    "\n",
    "regrep = regular representation\n",
    "\n",
    "--------------"
   ]
  },
  {
   "cell_type": "code",
   "execution_count": 85,
   "metadata": {},
   "outputs": [
    {
     "name": "stdout",
     "output_type": "stream",
     "text": [
      "[[[0. 0. 0. 0. 0. 0.]\n",
      "  [0. 0. 0. 0. 0. 0.]\n",
      "  [0. 0. 0. 0. 0. 0.]\n",
      "  [0. 0. 0. 0. 0. 0.]\n",
      "  [0. 0. 0. 0. 0. 0.]\n",
      "  [0. 0. 0. 0. 0. 0.]]\n",
      "\n",
      " [[0. 0. 0. 0. 0. 0.]\n",
      "  [0. 0. 0. 0. 0. 0.]\n",
      "  [0. 0. 0. 0. 0. 0.]\n",
      "  [0. 0. 0. 0. 0. 0.]\n",
      "  [0. 0. 0. 0. 0. 0.]\n",
      "  [0. 0. 0. 0. 0. 0.]]\n",
      "\n",
      " [[0. 0. 0. 0. 0. 0.]\n",
      "  [0. 0. 0. 0. 0. 0.]\n",
      "  [0. 0. 0. 0. 0. 0.]\n",
      "  [0. 0. 0. 0. 0. 0.]\n",
      "  [0. 0. 0. 0. 0. 0.]\n",
      "  [0. 0. 0. 0. 0. 0.]]\n",
      "\n",
      " [[0. 0. 0. 0. 0. 0.]\n",
      "  [0. 0. 0. 0. 0. 0.]\n",
      "  [0. 0. 0. 0. 0. 0.]\n",
      "  [0. 0. 0. 0. 0. 0.]\n",
      "  [0. 0. 0. 0. 0. 0.]\n",
      "  [0. 0. 0. 0. 0. 0.]]\n",
      "\n",
      " [[0. 0. 0. 0. 0. 0.]\n",
      "  [0. 0. 0. 0. 0. 0.]\n",
      "  [0. 0. 0. 0. 0. 0.]\n",
      "  [0. 0. 0. 0. 0. 0.]\n",
      "  [0. 0. 0. 0. 0. 0.]\n",
      "  [0. 0. 0. 0. 0. 0.]]\n",
      "\n",
      " [[0. 0. 0. 0. 0. 0.]\n",
      "  [0. 0. 0. 0. 0. 0.]\n",
      "  [0. 0. 0. 0. 0. 0.]\n",
      "  [0. 0. 0. 0. 0. 0.]\n",
      "  [0. 0. 0. 0. 0. 0.]\n",
      "  [0. 0. 0. 0. 0. 0.]]]\n"
     ]
    },
    {
     "data": {
      "text/plain": [
       "(6, 6, 6)"
      ]
     },
     "execution_count": 85,
     "metadata": {},
     "output_type": "execute_result"
    }
   ],
   "source": [
    "n=len(g)\n",
    "aa = np.array([np.zeros((n,n))])\n",
    "regrep = aa\n",
    "for i in range(n-1):\n",
    "    regrep=np.append(regrep, aa, 0)\n",
    "print(regrep) \n",
    "regrep.shape"
   ]
  },
  {
   "cell_type": "code",
   "execution_count": 86,
   "metadata": {},
   "outputs": [
    {
     "name": "stdout",
     "output_type": "stream",
     "text": [
      "[[[1. 0. 0. 0. 0. 0.]\n",
      "  [0. 1. 0. 0. 0. 0.]\n",
      "  [0. 0. 1. 0. 0. 0.]\n",
      "  [0. 0. 0. 1. 0. 0.]\n",
      "  [0. 0. 0. 0. 1. 0.]\n",
      "  [0. 0. 0. 0. 0. 1.]]\n",
      "\n",
      " [[0. 1. 0. 0. 0. 0.]\n",
      "  [1. 0. 0. 0. 0. 0.]\n",
      "  [0. 0. 0. 0. 0. 1.]\n",
      "  [0. 0. 0. 0. 1. 0.]\n",
      "  [0. 0. 0. 1. 0. 0.]\n",
      "  [0. 0. 1. 0. 0. 0.]]\n",
      "\n",
      " [[0. 0. 1. 0. 0. 0.]\n",
      "  [0. 0. 0. 0. 1. 0.]\n",
      "  [1. 0. 0. 0. 0. 0.]\n",
      "  [0. 0. 0. 0. 0. 1.]\n",
      "  [0. 1. 0. 0. 0. 0.]\n",
      "  [0. 0. 0. 1. 0. 0.]]\n",
      "\n",
      " [[0. 0. 0. 1. 0. 0.]\n",
      "  [0. 0. 0. 0. 0. 1.]\n",
      "  [0. 0. 0. 0. 1. 0.]\n",
      "  [1. 0. 0. 0. 0. 0.]\n",
      "  [0. 0. 1. 0. 0. 0.]\n",
      "  [0. 1. 0. 0. 0. 0.]]\n",
      "\n",
      " [[0. 0. 0. 0. 0. 1.]\n",
      "  [0. 0. 0. 1. 0. 0.]\n",
      "  [0. 1. 0. 0. 0. 0.]\n",
      "  [0. 0. 1. 0. 0. 0.]\n",
      "  [1. 0. 0. 0. 0. 0.]\n",
      "  [0. 0. 0. 0. 1. 0.]]\n",
      "\n",
      " [[0. 0. 0. 0. 1. 0.]\n",
      "  [0. 0. 1. 0. 0. 0.]\n",
      "  [0. 0. 0. 1. 0. 0.]\n",
      "  [0. 1. 0. 0. 0. 0.]\n",
      "  [0. 0. 0. 0. 0. 1.]\n",
      "  [1. 0. 0. 0. 0. 0.]]]\n"
     ]
    }
   ],
   "source": [
    "n=len(regrep)\n",
    "for i in range(n):\n",
    "    for j in range(n):\n",
    "        for k in range(n):\n",
    "            ii = mult[i,k]\n",
    "            if(j==ii):\n",
    "                regrep[i,j,k]=1\n",
    "            else:\n",
    "                regrep[i,j,k]=0\n",
    "print(regrep)"
   ]
  },
  {
   "cell_type": "code",
   "execution_count": 87,
   "metadata": {},
   "outputs": [
    {
     "name": "stdout",
     "output_type": "stream",
     "text": [
      "[[0 1 2 3 4 5]\n",
      " [1 0 5 4 3 2]\n",
      " [2 4 0 5 1 3]\n",
      " [3 5 4 0 2 1]\n",
      " [4 2 3 1 5 0]\n",
      " [5 3 1 2 0 4]]\n"
     ]
    }
   ],
   "source": [
    "n=len(g)\n",
    "mult2 = np.zeros((n,n), dtype=np.int_)\n",
    "for i in range(n):\n",
    "    for j in range(n):\n",
    "        x = regrep[i]@regrep[j]\n",
    "        m = -555\n",
    "        for ii in range(n):\n",
    "            if(np.allclose(x, regrep[ii])):\n",
    "                m = ii\n",
    "        mult2[i,j] = m\n",
    "print(mult2)"
   ]
  },
  {
   "cell_type": "code",
   "execution_count": 88,
   "metadata": {},
   "outputs": [
    {
     "data": {
      "text/plain": [
       "True"
      ]
     },
     "execution_count": 88,
     "metadata": {},
     "output_type": "execute_result"
    }
   ],
   "source": [
    "np.allclose(mult, mult2)"
   ]
  },
  {
   "cell_type": "code",
   "execution_count": 136,
   "metadata": {},
   "outputs": [
    {
     "name": "stdout",
     "output_type": "stream",
     "text": [
      "[[1. 1. 1. 0. 0. 0.]\n",
      " [1. 1. 0. 0. 0. 1.]\n",
      " [1. 0. 1. 0. 1. 0.]\n",
      " [0. 0. 0. 1. 1. 1.]\n",
      " [0. 0. 1. 1. 1. 0.]\n",
      " [0. 1. 0. 1. 0. 1.]]\n",
      "[[ 0.57735027  0.57735027  0.57735027  0.          0.          0.        ]\n",
      " [ 0.25819889  0.25819889 -0.51639778  0.          0.          0.77459667]\n",
      " [ 0.31622777 -0.47434165  0.15811388  0.          0.79056942  0.15811388]\n",
      " [-0.40824829  0.20412415  0.20412415  0.81649658  0.20412415  0.20412415]\n",
      " [-0.         -0.         -0.         -0.         -0.          0.        ]\n",
      " [-0.         -0.         -0.         -0.         -0.          0.        ]]\n"
     ]
    }
   ],
   "source": [
    "x = np.array([1,1,1,0,0,0])\n",
    "bb=regrep@x\n",
    "print(bb)\n",
    "for i in range(len(bb)):\n",
    "    for j in range(0,i):\n",
    "        bb[i] = bb[i] - (bb[i]@bb[j])*bb[j]\n",
    "    if not np.allclose(bb[i],np.zeros(n)):\n",
    "        bb[i] = bb[i]/np.linalg.norm(bb[i])\n",
    "\n",
    "print(bb)"
   ]
  },
  {
   "cell_type": "code",
   "execution_count": 143,
   "metadata": {},
   "outputs": [
    {
     "name": "stdout",
     "output_type": "stream",
     "text": [
      "[[0 0 0 1 0 0]\n",
      " [0 0 0 0 1 0]\n",
      " [0 0 0 0 0 1]\n",
      " [1 0 0 0 0 0]\n",
      " [0 1 0 0 0 0]\n",
      " [0 0 1 0 0 0]]\n",
      "[[0 0 0 1 0 0]\n",
      " [0 0 0 0 1 0]\n",
      " [0 0 0 0 0 1]\n",
      " [1 0 0 0 0 0]\n",
      " [0 1 0 0 0 0]\n",
      " [0 0 1 0 0 0]]\n"
     ]
    }
   ],
   "source": [
    "b = np.array([[0,0,0,1,0,0],\n",
    "            [0,0,0,0,1,0],\n",
    "            [0,0,0,0,0,1],\n",
    "             [1,0,0,0,0,0],\n",
    "             [0,1,0,0,0,0],\n",
    "             [0,0,1,0,0,0]])\n",
    "a = b.T\n",
    "print(a)\n",
    "print(b)"
   ]
  },
  {
   "cell_type": "code",
   "execution_count": 145,
   "metadata": {},
   "outputs": [
    {
     "data": {
      "text/plain": [
       "True"
      ]
     },
     "execution_count": 145,
     "metadata": {},
     "output_type": "execute_result"
    }
   ],
   "source": [
    "np.allclose(a@b, np.diag([1,1,1,1,1,1]))"
   ]
  },
  {
   "cell_type": "code",
   "execution_count": 147,
   "metadata": {},
   "outputs": [
    {
     "name": "stdout",
     "output_type": "stream",
     "text": [
      "[[1 2 3 0 0 0]\n",
      " [4 5 6 0 0 0]\n",
      " [7 8 9 0 0 0]\n",
      " [0 0 0 1 0 0]\n",
      " [0 0 0 0 1 0]\n",
      " [0 0 0 0 0 1]]\n"
     ]
    }
   ],
   "source": [
    "U = np.array(\n",
    "    [[1,2,3,0,0,0],\n",
    "    [4,5,6,0,0,0],\n",
    "    [7,8,9,0,0,0],\n",
    "    [0,0,0,1,0,0],\n",
    "    [0,0,0,0,1,0],\n",
    "    [0,0,0,0,0,1]])\n",
    "print(U)"
   ]
  },
  {
   "cell_type": "code",
   "execution_count": 148,
   "metadata": {},
   "outputs": [
    {
     "data": {
      "text/plain": [
       "array([[1, 0, 0, 0, 0, 0],\n",
       "       [0, 1, 0, 0, 0, 0],\n",
       "       [0, 0, 1, 0, 0, 0],\n",
       "       [0, 0, 0, 1, 2, 3],\n",
       "       [0, 0, 0, 4, 5, 6],\n",
       "       [0, 0, 0, 7, 8, 9]])"
      ]
     },
     "execution_count": 148,
     "metadata": {},
     "output_type": "execute_result"
    }
   ],
   "source": [
    "b@U@a"
   ]
  },
  {
   "cell_type": "code",
   "execution_count": 151,
   "metadata": {},
   "outputs": [
    {
     "name": "stdout",
     "output_type": "stream",
     "text": [
      "[[1 2 3]\n",
      " [4 5 6]\n",
      " [7 8 9]]\n",
      "[[ 2  4  6]\n",
      " [20 25 30]\n",
      " [49 56 63]]\n",
      "[[ 2 10 21]\n",
      " [ 8 25 42]\n",
      " [14 40 63]]\n"
     ]
    }
   ],
   "source": [
    "x=np.array([[1,2,3],[4,5,6],[7,8,9]])\n",
    "print(x)\n",
    "yy = np.diag([2,5,7])\n",
    "print(yy@x)\n",
    "print(x@yy)"
   ]
  },
  {
   "cell_type": "code",
   "execution_count": null,
   "metadata": {},
   "outputs": [],
   "source": []
  }
 ],
 "metadata": {
  "kernelspec": {
   "display_name": "Python 3",
   "language": "python",
   "name": "python3"
  },
  "language_info": {
   "codemirror_mode": {
    "name": "ipython",
    "version": 3
   },
   "file_extension": ".py",
   "mimetype": "text/x-python",
   "name": "python",
   "nbconvert_exporter": "python",
   "pygments_lexer": "ipython3",
   "version": "3.7.2"
  }
 },
 "nbformat": 4,
 "nbformat_minor": 2
}
