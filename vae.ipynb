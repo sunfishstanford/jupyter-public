{
 "cells": [
  {
   "cell_type": "code",
   "execution_count": 30,
   "id": "99c27895-5229-4c09-be22-6bcb28b25a2b",
   "metadata": {},
   "outputs": [],
   "source": [
    "import torch\n",
    "from torch import nn\n",
    "from torch.utils.data import DataLoader\n",
    "from torchvision import datasets\n",
    "from torchvision.transforms import ToTensor\n",
    "from torch.utils.data import Dataset\n",
    "import matplotlib.pyplot as plt\n",
    "import timeit"
   ]
  },
  {
   "cell_type": "code",
   "execution_count": 28,
   "id": "42a10342-33f7-46d4-ad7a-355d1975488c",
   "metadata": {},
   "outputs": [
    {
     "name": "stdout",
     "output_type": "stream",
     "text": [
      "----------\n",
      "0 tensor(1.2337, grad_fn=<MseLossBackward0>)\n",
      "----------\n",
      "10000 tensor(0.0007, grad_fn=<MseLossBackward0>)\n",
      "----------\n",
      "20000 tensor(9.0300e-06, grad_fn=<MseLossBackward0>)\n",
      "time =  2.5061244999999417\n",
      "trained =  Parameter containing:\n",
      "tensor([[0.0466, 0.5434, 0.4821, 0.4603],\n",
      "        [0.1302, 0.3719, 0.5377, 0.2003],\n",
      "        [0.7582, 0.6168, 0.9020, 0.9465],\n",
      "        [0.1231, 0.1913, 0.4370, 0.7973]], requires_grad=True)\n",
      "target =  tensor([[0.0470, 0.5437, 0.4824, 0.4606],\n",
      "        [0.1307, 0.3724, 0.5382, 0.2008],\n",
      "        [0.7594, 0.6180, 0.9033, 0.9477],\n",
      "        [0.1231, 0.1914, 0.4371, 0.7974]])\n"
     ]
    }
   ],
   "source": [
    "N=300\n",
    "\n",
    "device = torch.device(\"cpu\")\n",
    "xtotal = torch.rand(N,50,4,device=device)\n",
    "model = nn.Linear(4,4).to(device)\n",
    "optimizer = torch.optim.SGD(model.parameters(), lr=1e-2)\n",
    "loss_fn = nn.MSELoss()\n",
    "\n",
    "goalw = torch.rand(4,4,device=device)\n",
    "def fgoal(x):\n",
    "    return(torch.transpose(torch.matmul(goalw,torch.transpose(x,0,1)),0,1))\n",
    "def runloop():\n",
    "    for i in range(N):\n",
    "        optimizer.zero_grad()\n",
    "        predictions = model(xtotal[i])\n",
    "        loss = loss_fn(predictions, fgoal(xtotal[i]))\n",
    "        loss.backward()\n",
    "        optimizer.step()\n",
    "        if i%10000==0:\n",
    "            print(\"-\" * 10)\n",
    "            print(i,loss)\n",
    "res = timeit.timeit(runloop, number=1)\n",
    "print('time = ',res)                        \n",
    "print('trained = ',list(model.parameters())[0])\n",
    "    \n",
    "print('target = ',goalw)\n",
    "\n"
   ]
  },
  {
   "cell_type": "code",
   "execution_count": 33,
   "id": "21718542-e6a2-4174-b8d9-8934e6755162",
   "metadata": {},
   "outputs": [
    {
     "data": {
      "text/plain": [
       "(array([  1.,   0.,   1.,   2.,   0.,   1.,   5.,   2.,   3.,   3.,   3.,\n",
       "          4.,   8.,   7.,  15.,  10.,  15.,  16.,  17.,  18.,  23.,  26.,\n",
       "         27.,  37.,  50.,  63.,  54.,  60.,  69.,  75.,  74.,  87.,  80.,\n",
       "        112., 106., 107., 111., 124., 154., 148., 146., 146., 149., 147.,\n",
       "        162., 144., 142., 136., 161., 151., 151., 128., 125., 122., 107.,\n",
       "        110., 104.,  92.,  89.,  98.,  80.,  73.,  76.,  71.,  47.,  43.,\n",
       "         30.,  33.,  35.,  19.,  31.,  21.,  26.,  21.,  12.,  11.,   8.,\n",
       "          6.,   6.,   3.,   6.,   0.,   3.,   3.,   2.,   2.,   0.,   2.,\n",
       "          1.,   0.,   0.,   0.,   0.,   0.,   0.,   0.,   0.,   0.,   0.,\n",
       "          1.]),\n",
       " array([-3.4523988 , -3.3761218 , -3.2998447 , -3.223568  , -3.147291  ,\n",
       "        -3.071014  , -2.994737  , -2.91846   , -2.842183  , -2.765906  ,\n",
       "        -2.689629  , -2.613352  , -2.537075  , -2.4607983 , -2.3845212 ,\n",
       "        -2.3082442 , -2.2319672 , -2.1556902 , -2.0794134 , -2.0031364 ,\n",
       "        -1.9268594 , -1.8505824 , -1.7743055 , -1.6980284 , -1.6217515 ,\n",
       "        -1.5454745 , -1.4691975 , -1.3929206 , -1.3166436 , -1.2403667 ,\n",
       "        -1.1640897 , -1.0878127 , -1.0115358 , -0.93525875, -0.8589818 ,\n",
       "        -0.78270483, -0.7064279 , -0.6301509 , -0.5538739 , -0.47759694,\n",
       "        -0.40131998, -0.32504302, -0.24876603, -0.17248908, -0.0962121 ,\n",
       "        -0.01993513,  0.05634184,  0.13261881,  0.20889577,  0.28517276,\n",
       "         0.36144972,  0.43772668,  0.51400363,  0.59028065,  0.6665576 ,\n",
       "         0.74283457,  0.8191115 ,  0.8953885 ,  0.9716655 ,  1.0479424 ,\n",
       "         1.1242194 ,  1.2004964 ,  1.2767733 ,  1.3530504 ,  1.4293272 ,\n",
       "         1.5056043 ,  1.5818813 ,  1.6581582 ,  1.7344352 ,  1.8107121 ,\n",
       "         1.8869891 ,  1.9632661 ,  2.0395432 ,  2.11582   ,  2.192097  ,\n",
       "         2.268374  ,  2.344651  ,  2.420928  ,  2.4972048 ,  2.5734818 ,\n",
       "         2.6497588 ,  2.7260358 ,  2.8023129 ,  2.8785896 ,  2.9548666 ,\n",
       "         3.0311437 ,  3.1074207 ,  3.1836977 ,  3.2599745 ,  3.3362515 ,\n",
       "         3.4125285 ,  3.4888055 ,  3.5650826 ,  3.6413593 ,  3.7176363 ,\n",
       "         3.7939134 ,  3.8701904 ,  3.9464674 ,  4.022744  ,  4.0990214 ,\n",
       "         4.175298  ], dtype=float32),\n",
       " <BarContainer object of 100 artists>)"
      ]
     },
     "execution_count": 33,
     "metadata": {},
     "output_type": "execute_result"
    },
    {
     "data": {
      "image/png": "[encoded data removed]",
      "text/plain": [
       "<Figure size 640x480 with 1 Axes>"
      ]
     },
     "metadata": {},
     "output_type": "display_data"
    }
   ],
   "source": [
    "x=torch.randn(5000)\n",
    "plt.hist(x,bins=100)"
   ]
  },
  {
   "cell_type": "code",
   "execution_count": null,
   "id": "ec6a2617-5bd3-43c0-8130-b2456dee37e1",
   "metadata": {},
   "outputs": [],
   "source": []
  }
 ],
 "metadata": {
  "kernelspec": {
   "display_name": "Python 3 (ipykernel)",
   "language": "python",
   "name": "python3"
  },
  "language_info": {
   "codemirror_mode": {
    "name": "ipython",
    "version": 3
   },
   "file_extension": ".py",
   "mimetype": "text/x-python",
   "name": "python",
   "nbconvert_exporter": "python",
   "pygments_lexer": "ipython3",
   "version": "3.9.13"
  }
 },
 "nbformat": 4,
 "nbformat_minor": 5
}
