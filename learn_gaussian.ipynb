{
 "cells": [
  {
   "cell_type": "code",
   "execution_count": 103,
   "id": "99c27895-5229-4c09-be22-6bcb28b25a2b",
   "metadata": {},
   "outputs": [],
   "source": [
    "import torch\n",
    "from torch import nn\n",
    "from torchvision.transforms import ToTensor\n",
    "import matplotlib.pyplot as plt\n",
    "import timeit\n",
    "import scipy.stats\n",
    "import numpy as np\n",
    "from scipy.stats import norm\n",
    "\n"
   ]
  },
  {
   "cell_type": "code",
   "execution_count": 104,
   "id": "21718542-e6a2-4174-b8d9-8934e6755162",
   "metadata": {},
   "outputs": [],
   "source": [
    "class MyLogNormalSum(nn.Module):\n",
    "    def __init__(self):\n",
    "        super().__init__()\n",
    "        self.mu = torch.nn.Parameter(torch.zeros(1,dtype=torch.float)) # mean\n",
    "        self.Sigma = torch.nn.Parameter(torch.ones(1,dtype=torch.float)) # variance\n",
    "\n",
    "    def forward(self, x):\n",
    "        y_pred = 0\n",
    "        for u in x:\n",
    "            y_pred += (-torch.log(2*np.pi*self.Sigma)/2 -(u-self.mu)**2/(2*self.Sigma))\n",
    "        return y_pred\n"
   ]
  },
  {
   "cell_type": "code",
   "execution_count": 132,
   "id": "42a10342-33f7-46d4-ad7a-355d1975488c",
   "metadata": {},
   "outputs": [
    {
     "name": "stdout",
     "output_type": "stream",
     "text": [
      "----------\n",
      "0 tensor([-477.5761], grad_fn=<AddBackward0>)\n",
      "----------\n",
      "100 tensor([-477.8777], grad_fn=<AddBackward0>)\n",
      "----------\n",
      "200 tensor([-486.7375], grad_fn=<AddBackward0>)\n",
      "----------\n",
      "300 tensor([-460.2825], grad_fn=<AddBackward0>)\n",
      "----------\n",
      "400 tensor([-479.4442], grad_fn=<AddBackward0>)\n",
      "----------\n",
      "500 tensor([-503.1478], grad_fn=<AddBackward0>)\n",
      "----------\n",
      "600 tensor([-476.3310], grad_fn=<AddBackward0>)\n",
      "----------\n",
      "700 tensor([-470.0957], grad_fn=<AddBackward0>)\n",
      "----------\n",
      "800 tensor([-470.8931], grad_fn=<AddBackward0>)\n",
      "----------\n",
      "900 tensor([-470.9055], grad_fn=<AddBackward0>)\n",
      "time =  25.567295042001206\n",
      "trained =  OrderedDict([('mu', Parameter containing:\n",
      "tensor([0.3147], requires_grad=True)), ('Sigma', Parameter containing:\n",
      "tensor([1.4457], requires_grad=True))])\n"
     ]
    }
   ],
   "source": [
    "mydevice = torch.device(\"cpu\") # \"cpu\" or \"mps\"\n",
    "\n",
    "# model to be trained\n",
    "model = MyLogNormalSum().to(mydevice)\n",
    "\n",
    "# number of batches\n",
    "nbatch = 1000\n",
    "\n",
    "# learning rate\n",
    "learn = 1e-3\n",
    "\n",
    "# batch size\n",
    "b_size = 300\n",
    "\n",
    "# loss function\n",
    "# loss_fn = nn.MSELoss()\n",
    "\n",
    "# parameters used to generate training data\n",
    "goalmu = .314\n",
    "goalSigma = 1.5 # variance, not std dev\n",
    "\n",
    "# training data features\n",
    "# x = torch.normal(goalmu, np.sqrt(goalSigma), size=(nbatch,b_size))\n",
    "x = goalmu + np.sqrt(goalSigma)*torch.randn((nbatch,b_size))\n",
    "\n",
    "# generate labels\n",
    "# def Y(x):\n",
    "#     return(torch.transpose(torch.matmul(goaltheta,torch.transpose(x,0,1)),0,1))\n",
    "\n",
    "optimizer = torch.optim.Adam(model.parameters(), lr=learn, maximize=True)\n",
    "\n",
    "\n",
    "def runloop():\n",
    "    for i in range(nbatch):\n",
    "        optimizer.zero_grad()\n",
    "        llhood = model(x[i])\n",
    "        llhood.backward()\n",
    "        optimizer.step()\n",
    "        if i%(nbatch/10)==0:\n",
    "            print(\"-\" * 10)\n",
    "            print(i,llhood)\n",
    "res = timeit.timeit(runloop, number=1)\n",
    "print('time = ',res)                        \n",
    "print('trained = ',model._parameters)\n",
    "\n",
    "# print('target = ',goaltheta)\n",
    "# print('mismatch = ', nn.functional.mse_loss(list(model.parameters())[0].data, goaltheta))\n",
    "\n"
   ]
  },
  {
   "cell_type": "code",
   "execution_count": null,
   "id": "79b8370c-e745-428f-a9f1-b337848fe346",
   "metadata": {},
   "outputs": [],
   "source": []
  },
  {
   "cell_type": "code",
   "execution_count": 67,
   "id": "4b892a26-c6b8-4231-956e-839cf1e53181",
   "metadata": {},
   "outputs": [
    {
     "data": {
      "text/plain": [
       "Parameter containing:\n",
       "tensor(1.9000, requires_grad=True)"
      ]
     },
     "execution_count": 67,
     "metadata": {},
     "output_type": "execute_result"
    }
   ],
   "source": [
    "a=model.parameters()\n",
    "a.__next__()"
   ]
  },
  {
   "cell_type": "code",
   "execution_count": 27,
   "id": "02243795-7e40-424a-8707-d64f9a41c067",
   "metadata": {},
   "outputs": [
    {
     "data": {
      "text/plain": [
       "Parameter containing:\n",
       "tensor(0.0400, requires_grad=True)"
      ]
     },
     "execution_count": 27,
     "metadata": {},
     "output_type": "execute_result"
    }
   ],
   "source": [
    "a.__next__()"
   ]
  },
  {
   "cell_type": "code",
   "execution_count": 63,
   "id": "ddd640a6-8a6c-4054-941f-4d8ea29d21f5",
   "metadata": {},
   "outputs": [],
   "source": [
    "x = torch.tensor([1.,2.,3.],requires_grad=True)\n",
    "y = torch.tensor([.5,.3,.5],requires_grad=False)\n",
    "t = torch.tensor([0,1,2],requires_grad=False)\n",
    "\n",
    "z = x*y*(2+t)\n",
    "loss = torch.sum(z)\n",
    "loss.backward()"
   ]
  },
  {
   "cell_type": "code",
   "execution_count": 66,
   "id": "8644b4d2-437d-4b84-acaa-e3e72cbd5f62",
   "metadata": {},
   "outputs": [
    {
     "name": "stdout",
     "output_type": "stream",
     "text": [
      "tensor([1.0000, 0.9000, 2.0000])\n"
     ]
    }
   ],
   "source": [
    "print(x.grad)"
   ]
  },
  {
   "cell_type": "code",
   "execution_count": 60,
   "id": "e7c721e8-8b2c-4040-b236-8ace6ae26397",
   "metadata": {},
   "outputs": [],
   "source": [
    "y = torch.tensor([2.,2.,2.],requires_grad=False)\n",
    "z = x*y*3\n",
    "loss = torch.sum(z)"
   ]
  },
  {
   "cell_type": "code",
   "execution_count": 72,
   "id": "29551764-607e-4b61-bf73-d671c8aee0b6",
   "metadata": {},
   "outputs": [
    {
     "data": {
      "text/plain": [
       "OrderedDict([('mu',\n",
       "              Parameter containing:\n",
       "              tensor(1.9000, requires_grad=True)),\n",
       "             ('sigma',\n",
       "              Parameter containing:\n",
       "              tensor(0.0400, requires_grad=True))])"
      ]
     },
     "execution_count": 72,
     "metadata": {},
     "output_type": "execute_result"
    }
   ],
   "source": [
    "model._parameters"
   ]
  },
  {
   "cell_type": "code",
   "execution_count": null,
   "id": "95696759-8400-4893-b63b-ea5850b33384",
   "metadata": {},
   "outputs": [],
   "source": []
  }
 ],
 "metadata": {
  "kernelspec": {
   "display_name": "Python 3 (ipykernel)",
   "language": "python",
   "name": "python3"
  },
  "language_info": {
   "codemirror_mode": {
    "name": "ipython",
    "version": 3
   },
   "file_extension": ".py",
   "mimetype": "text/x-python",
   "name": "python",
   "nbconvert_exporter": "python",
   "pygments_lexer": "ipython3",
   "version": "3.9.13"
  }
 },
 "nbformat": 4,
 "nbformat_minor": 5
}
