{
 "cells": [
  {
   "cell_type": "code",
   "execution_count": 1,
   "id": "8e6d4bf5-b3a4-4bcf-97b2-4c634a2dab1f",
   "metadata": {},
   "outputs": [],
   "source": [
    "from sympy import *\n",
    "from numpy import random\n"
   ]
  },
  {
   "cell_type": "code",
   "execution_count": 2,
   "id": "46269641-5d8c-4335-820c-2089d571ec61",
   "metadata": {},
   "outputs": [],
   "source": [
    "# monatomic gas, Morse, p. 66\n",
    "# S, V, n are the independent variables; U, T, P, mu are the dependent variables\n",
    "# assume U = 3/2 nRT\n",
    "# given: T=T0, V=V0, n=n0\n",
    "# then U0 = 3/2 n0 R T0\n",
    "# So S0=n0*R is determined by that choice of U0\n",
    "U,T,S,V,P,G,n,mu,u0,S0,s0,V0,v0,T0, n0, R, b = symbols ('U,T,S,V,P,G,n,mu,u0,S0,s0,V0,v0,T0,n0,R, b')\n",
    "U = 3/2 * n * R * T0 * (n*v0/V)**(2/3) * E**(2*(S-n*s0)/(3*n*R))\n",
    "T = diff(U,S)\n",
    "P = -diff(U,V)\n",
    "mu = diff(U,n)\n",
    "\n",
    "U1 = simplify(S*T - P*V + mu*n)"
   ]
  },
  {
   "cell_type": "code",
   "execution_count": 3,
   "id": "38281fe3-16cb-4b83-b950-f46f7c2d2108",
   "metadata": {},
   "outputs": [],
   "source": [
    "U,T,S,V,P,G,n,mu,u0,S0,s0,V0,v0,T0, n0, R, b = symbols ('U,T,S,V,P,G,n,mu,u0,S0,s0,V0,v0,T0,n0,R, b')\n",
    "U = 3/2 * n * R * T0 * (V0/V)**(2/3) * E**(2*(S-S0)/(3*n*R))\n",
    "T = diff(U,S)\n",
    "P = -diff(U,V)\n",
    "mu = diff(U,n)\n",
    "\n",
    "U2 = simplify(S*T - P*V + mu*n)"
   ]
  },
  {
   "cell_type": "code",
   "execution_count": 4,
   "id": "378cce71-ca74-4f19-ba49-359d10ba8deb",
   "metadata": {},
   "outputs": [
    {
     "data": {
      "text/latex": [
       "$\\displaystyle 1.5 R T_{0} n \\left(\\frac{n v_{0}}{V}\\right)^{0.666666666666667} e^{\\frac{2 \\left(S - n s_{0}\\right)}{3 R n}}$"
      ],
      "text/plain": [
       "1.5*R*T0*n*(n*v0/V)**0.666666666666667*exp(2*(S - n*s0)/(3*R*n))"
      ]
     },
     "metadata": {},
     "output_type": "display_data"
    },
    {
     "data": {
      "text/latex": [
       "$\\displaystyle T_{0} \\left(\\frac{V_{0}}{V}\\right)^{0.666666666666667} \\cdot \\left(0.5 R n + 1.0 S_{0}\\right) e^{\\frac{2 \\left(S - S_{0}\\right)}{3 R n}}$"
      ],
      "text/plain": [
       "T0*(V0/V)**0.666666666666667*(0.5*R*n + 1.0*S0)*exp(2*(S - S0)/(3*R*n))"
      ]
     },
     "metadata": {},
     "output_type": "display_data"
    }
   ],
   "source": [
    "display(U1,U2)"
   ]
  },
  {
   "cell_type": "code",
   "execution_count": null,
   "id": "8e7f514a-3a1c-4698-adbc-be9d0c8283fb",
   "metadata": {},
   "outputs": [],
   "source": []
  }
 ],
 "metadata": {
  "kernelspec": {
   "display_name": "Python 3 (ipykernel)",
   "language": "python",
   "name": "python3"
  },
  "language_info": {
   "codemirror_mode": {
    "name": "ipython",
    "version": 3
   },
   "file_extension": ".py",
   "mimetype": "text/x-python",
   "name": "python",
   "nbconvert_exporter": "python",
   "pygments_lexer": "ipython3",
   "version": "3.9.13"
  }
 },
 "nbformat": 4,
 "nbformat_minor": 5
}
