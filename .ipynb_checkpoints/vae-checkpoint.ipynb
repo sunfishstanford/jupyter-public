{
 "cells": [
  {
   "cell_type": "code",
   "execution_count": 2,
   "id": "99c27895-5229-4c09-be22-6bcb28b25a2b",
   "metadata": {},
   "outputs": [],
   "source": [
    "import torch\n",
    "from torch import nn\n",
    "from torch.utils.data import DataLoader\n",
    "from torchvision import datasets\n",
    "from torchvision.transforms import ToTensor\n",
    "from torch.utils.data import Dataset\n",
    "import matplotlib.pyplot as plt\n"
   ]
  },
  {
   "cell_type": "code",
   "execution_count": 28,
   "id": "42a10342-33f7-46d4-ad7a-355d1975488c",
   "metadata": {},
   "outputs": [
    {
     "name": "stdout",
     "output_type": "stream",
     "text": [
      "----------\n",
      "0 tensor(1.2337, grad_fn=<MseLossBackward0>)\n",
      "----------\n",
      "10000 tensor(0.0007, grad_fn=<MseLossBackward0>)\n",
      "----------\n",
      "20000 tensor(9.0300e-06, grad_fn=<MseLossBackward0>)\n",
      "time =  2.5061244999999417\n",
      "trained =  Parameter containing:\n",
      "tensor([[0.0466, 0.5434, 0.4821, 0.4603],\n",
      "        [0.1302, 0.3719, 0.5377, 0.2003],\n",
      "        [0.7582, 0.6168, 0.9020, 0.9465],\n",
      "        [0.1231, 0.1913, 0.4370, 0.7973]], requires_grad=True)\n",
      "target =  tensor([[0.0470, 0.5437, 0.4824, 0.4606],\n",
      "        [0.1307, 0.3724, 0.5382, 0.2008],\n",
      "        [0.7594, 0.6180, 0.9033, 0.9477],\n",
      "        [0.1231, 0.1914, 0.4371, 0.7974]])\n"
     ]
    }
   ],
   "source": [
    "# benchmark MPS (apple M2 chip) vs CPU\n",
    "\n",
    "N=30000\n",
    "import timeit\n",
    "\n",
    "device = torch.device(\"cpu\")\n",
    "xtotal = torch.rand(N,50,4,device=device)\n",
    "model = nn.Linear(4,4).to(device)\n",
    "optimizer = torch.optim.SGD(model.parameters(), lr=1e-2)\n",
    "loss_fn = nn.MSELoss()\n",
    "\n",
    "goalw = torch.rand(4,4,device=device)\n",
    "def fgoal(x):\n",
    "    return(torch.transpose(torch.matmul(goalw,torch.transpose(x,0,1)),0,1))\n",
    "def runloop():\n",
    "    for i in range(N):\n",
    "        optimizer.zero_grad()\n",
    "        predictions = model(xtotal[i])\n",
    "        loss = loss_fn(predictions, fgoal(xtotal[i]))\n",
    "        loss.backward()\n",
    "        optimizer.step()\n",
    "        if i%10000==0:\n",
    "            print(\"-\" * 10)\n",
    "            print(i,loss)\n",
    "res = timeit.timeit(runloop, number=1)\n",
    "print('time = ',res)                        \n",
    "print('trained = ',list(model.parameters())[0])\n",
    "    \n",
    "print('target = ',goalw)\n",
    "\n"
   ]
  },
  {
   "cell_type": "code",
   "execution_count": null,
   "id": "21718542-e6a2-4174-b8d9-8934e6755162",
   "metadata": {},
   "outputs": [],
   "source": []
  }
 ],
 "metadata": {
  "kernelspec": {
   "display_name": "Python 3 (ipykernel)",
   "language": "python",
   "name": "python3"
  },
  "language_info": {
   "codemirror_mode": {
    "name": "ipython",
    "version": 3
   },
   "file_extension": ".py",
   "mimetype": "text/x-python",
   "name": "python",
   "nbconvert_exporter": "python",
   "pygments_lexer": "ipython3",
   "version": "3.9.13"
  }
 },
 "nbformat": 4,
 "nbformat_minor": 5
}
