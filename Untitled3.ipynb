{
 "cells": [
  {
   "cell_type": "code",
   "execution_count": 1,
   "id": "8e6d4bf5-b3a4-4bcf-97b2-4c634a2dab1f",
   "metadata": {},
   "outputs": [],
   "source": [
    "import sympy"
   ]
  },
  {
   "cell_type": "code",
   "execution_count": 6,
   "id": "46269641-5d8c-4335-820c-2089d571ec61",
   "metadata": {},
   "outputs": [
    {
     "data": {
      "text/latex": [
       "$\\displaystyle \\frac{e^{- \\frac{x^{2}}{2 t}}}{\\sqrt{t}}$"
      ],
      "text/plain": [
       "exp(-x**2/(2*t))/sqrt(t)"
      ]
     },
     "execution_count": 6,
     "metadata": {},
     "output_type": "execute_result"
    }
   ],
   "source": [
    "from sympy import *\n",
    "x, t = symbols('x t')\n",
    "I = 1/sympy.sqrt(t) * sympy.exp(-x**2/(2*t))\n",
    "I"
   ]
  },
  {
   "cell_type": "code",
   "execution_count": 7,
   "id": "38281fe3-16cb-4b83-b950-f46f7c2d2108",
   "metadata": {},
   "outputs": [
    {
     "data": {
      "text/latex": [
       "$\\displaystyle - \\frac{e^{- \\frac{x^{2}}{2 t}}}{2 t^{\\frac{3}{2}}} + \\frac{x^{2} e^{- \\frac{x^{2}}{2 t}}}{2 t^{\\frac{5}{2}}}$"
      ],
      "text/plain": [
       "-exp(-x**2/(2*t))/(2*t**(3/2)) + x**2*exp(-x**2/(2*t))/(2*t**(5/2))"
      ]
     },
     "execution_count": 7,
     "metadata": {},
     "output_type": "execute_result"
    }
   ],
   "source": [
    "diff(I,t)"
   ]
  },
  {
   "cell_type": "code",
   "execution_count": 8,
   "id": "378cce71-ca74-4f19-ba49-359d10ba8deb",
   "metadata": {},
   "outputs": [
    {
     "data": {
      "text/latex": [
       "$\\displaystyle - \\frac{e^{- \\frac{x^{2}}{2 t}}}{2 t^{\\frac{3}{2}}} + \\frac{x^{2} e^{- \\frac{x^{2}}{2 t}}}{2 t^{\\frac{5}{2}}}$"
      ],
      "text/plain": [
       "-exp(-x**2/(2*t))/(2*t**(3/2)) + x**2*exp(-x**2/(2*t))/(2*t**(5/2))"
      ]
     },
     "execution_count": 8,
     "metadata": {},
     "output_type": "execute_result"
    }
   ],
   "source": [
    "diff(diff(I,x),x)/2"
   ]
  },
  {
   "cell_type": "code",
   "execution_count": null,
   "id": "8e7f514a-3a1c-4698-adbc-be9d0c8283fb",
   "metadata": {},
   "outputs": [],
   "source": []
  }
 ],
 "metadata": {
  "kernelspec": {
   "display_name": "Python 3 (ipykernel)",
   "language": "python",
   "name": "python3"
  },
  "language_info": {
   "codemirror_mode": {
    "name": "ipython",
    "version": 3
   },
   "file_extension": ".py",
   "mimetype": "text/x-python",
   "name": "python",
   "nbconvert_exporter": "python",
   "pygments_lexer": "ipython3",
   "version": "3.9.13"
  }
 },
 "nbformat": 4,
 "nbformat_minor": 5
}
