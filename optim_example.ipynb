{
 "cells": [
  {
   "cell_type": "code",
   "execution_count": 2,
   "id": "99c27895-5229-4c09-be22-6bcb28b25a2b",
   "metadata": {},
   "outputs": [],
   "source": [
    "import torch\n",
    "from torch import nn\n",
    "from torchvision.transforms import ToTensor\n",
    "import matplotlib.pyplot as plt\n",
    "import timeit\n",
    "\n",
    "mydevice = torch.device(\"cpu\") # \"cpu\" or \"mps\"\n"
   ]
  },
  {
   "cell_type": "code",
   "execution_count": 15,
   "id": "42a10342-33f7-46d4-ad7a-355d1975488c",
   "metadata": {},
   "outputs": [
    {
     "name": "stdout",
     "output_type": "stream",
     "text": [
      "----------\n",
      "0 tensor(1.0847, grad_fn=<MseLossBackward0>)\n",
      "----------\n",
      "10000 tensor(0.0002, grad_fn=<MseLossBackward0>)\n",
      "----------\n",
      "20000 tensor(3.0736e-06, grad_fn=<MseLossBackward0>)\n",
      "time =  2.7768742499999917\n",
      "trained =  tensor([[0.1920, 0.9795, 0.8530, 0.2056],\n",
      "        [0.5747, 0.4887, 0.0082, 0.2444],\n",
      "        [0.5101, 0.0614, 0.7706, 0.1323],\n",
      "        [0.6134, 0.2517, 0.8292, 0.0581]])\n",
      "target =  tensor([[0.1925, 0.9799, 0.8535, 0.2061],\n",
      "        [0.5752, 0.4891, 0.0086, 0.2448],\n",
      "        [0.5106, 0.0619, 0.7710, 0.1328],\n",
      "        [0.6136, 0.2518, 0.8293, 0.0583]])\n",
      "mismatch =  tensor(1.6269e-07)\n"
     ]
    }
   ],
   "source": [
    "# model to be trained\n",
    "model = nn.Linear(4,4).to(mydevice)\n",
    "\n",
    "# number of batches\n",
    "nbatch = 30000\n",
    "\n",
    "# batch size\n",
    "b_size = 50\n",
    "\n",
    "# loss function\n",
    "loss_fn = nn.MSELoss()\n",
    "\n",
    "# training data features\n",
    "x = torch.rand(nbatch,b_size,4,device=mydevice)\n",
    "\n",
    "# parameters used to generate training data\n",
    "goaltheta = torch.rand(4,4,device=mydevice)\n",
    "\n",
    "# generate labels\n",
    "def Y(x):\n",
    "    return(torch.transpose(torch.matmul(goaltheta,torch.transpose(x,0,1)),0,1))\n",
    "\n",
    "optimizer = torch.optim.SGD(model.parameters(), lr=1e-2)\n",
    "\n",
    "\n",
    "def runloop():\n",
    "    for i in range(nbatch):\n",
    "        optimizer.zero_grad()\n",
    "        predictions = model(x[i])\n",
    "        loss = loss_fn(predictions, Y(x[i]))\n",
    "        loss.backward()\n",
    "        optimizer.step()\n",
    "        if i%10000==0:\n",
    "            print(\"-\" * 10)\n",
    "            print(i,loss)\n",
    "res = timeit.timeit(runloop, number=1)\n",
    "print('time = ',res)                        \n",
    "print('trained = ',list(model.parameters())[0].data)\n",
    "\n",
    "print('target = ',goaltheta)\n",
    "print('mismatch = ', nn.functional.mse_loss(list(model.parameters())[0].data, goaltheta))\n",
    "\n"
   ]
  },
  {
   "cell_type": "code",
   "execution_count": null,
   "id": "21718542-e6a2-4174-b8d9-8934e6755162",
   "metadata": {},
   "outputs": [],
   "source": []
  }
 ],
 "metadata": {
  "kernelspec": {
   "display_name": "Python 3 (ipykernel)",
   "language": "python",
   "name": "python3"
  },
  "language_info": {
   "codemirror_mode": {
    "name": "ipython",
    "version": 3
   },
   "file_extension": ".py",
   "mimetype": "text/x-python",
   "name": "python",
   "nbconvert_exporter": "python",
   "pygments_lexer": "ipython3",
   "version": "3.9.13"
  }
 },
 "nbformat": 4,
 "nbformat_minor": 5
}
